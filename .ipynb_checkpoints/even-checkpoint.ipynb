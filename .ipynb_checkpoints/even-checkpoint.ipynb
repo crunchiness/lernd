{
 "cells": [
  {
   "cell_type": "markdown",
   "metadata": {
    "collapsed": true,
    "pycharm": {
     "name": "#%% md\n"
    }
   },
   "source": [
    "**Lernd** is my implementation of $\\partial$ILP framework. The original $\\partial$ILP paper $-$\n",
    "[Learning Explanatory Rules from Noisy Data](https://arxiv.org/abs/1711.04574).\n",
    "\n",
    "In the `intro_predecessor.ipynb` notebook, the $predecessor$ problem is quite simple and does not showcase the\n",
    "capabilities of **Lernd**.\n",
    "\n",
    "For a more difficult problem, let's solve $even$ (this time without noise). **Lernd** should come up with the definition of predicate $even$ given\n",
    "just a successor predicate $succ$ and a few examples.\n",
    "\n",
    "This is not a trivial problem, because an auxiliary predicate has to be invented and the solution has recursion in it.\n",
    "An example solution could be:\n",
    "\n",
    "$target(A) \\leftarrow zero(A)$\n",
    "\n",
    "$target(A) \\leftarrow target(B),pred(B,A)$\n",
    "\n",
    "$pred(A,B) \\leftarrow succ(A,C),succ(C,B)$\n",
    "\n",
    "Here $pred$ is the auxiliary predicate, true if $A+2=B$. There may be variations.\n",
    "\n",
    "\n",
    "Let's define the problem:"
   ]
  },
  {
   "cell_type": "code",
   "execution_count": 1,
   "metadata": {
    "pycharm": {
     "name": "#%%\n"
    }
   },
   "outputs": [],
   "source": [
    "import os\n",
    "\n",
    "import numpy as np\n",
    "import tensorflow as tf\n",
    "from IPython.core.display import clear_output\n",
    "from matplotlib import pyplot as plt\n",
    "\n",
    "from lernd.classes import ILP, LanguageModel, ProgramTemplate\n",
    "from lernd.lernd_loss import Lernd\n",
    "from lernd.lernd_types import Constant, RuleTemplate\n",
    "from lernd.main import generate_weight_matrices, extract_definitions, print_valuations\n",
    "from lernd.util import get_ground_atom_probs, ground_atom2str, softmax, str2ground_atom, str2pred\n",
    "\n",
    "os.environ['CUDA_VISIBLE_DEVICES'] = ''\n",
    "\n",
    "target_pred = str2pred('even/1')\n",
    "zero_pred = str2pred('zero/1')\n",
    "succ_pred = str2pred('succ/2')\n",
    "preds_ext = [zero_pred, succ_pred]\n",
    "constants = [Constant(str(i)) for i in range(11)]\n",
    "language_model = LanguageModel(target_pred, preds_ext, constants)\n",
    "\n",
    "# Program template\n",
    "aux_pred = str2pred('pred/2')\n",
    "aux_preds = [aux_pred]\n",
    "rules = {\n",
    "    target_pred: (RuleTemplate(0, False), RuleTemplate(1, True)),\n",
    "    aux_pred: (RuleTemplate(1, False), None)\n",
    "}\n",
    "forward_chaining_steps = 6\n",
    "program_template = ProgramTemplate(aux_preds, rules, forward_chaining_steps)\n",
    "\n",
    "# ILP problem\n",
    "ground_zero = str2ground_atom('zero(0)')\n",
    "background = [ground_zero] + [str2ground_atom(f'succ({i},{i + 1})') for i in range(10)]\n",
    "positive = [str2ground_atom(f'even({i})') for i in range(0, 11, 2)]\n",
    "negative = [str2ground_atom(f'even({i})') for i in range(1, 10, 2)]\n",
    "ilp_problem = ILP(language_model, background, positive, negative)"
   ]
  },
  {
   "cell_type": "markdown",
   "metadata": {
    "pycharm": {
     "name": "#%% md\n"
    }
   },
   "source": [
    "Let's see the background knowledge and examples:"
   ]
  },
  {
   "cell_type": "code",
   "execution_count": 2,
   "metadata": {
    "pycharm": {
     "name": "#%%\n"
    }
   },
   "outputs": [
    {
     "name": "stdout",
     "output_type": "stream",
     "text": [
      "Background axioms:\n",
      "zero(0), succ(0,1), succ(1,2), succ(2,3), succ(3,4), succ(4,5), succ(5,6), succ(6,7), succ(7,8), succ(8,9), succ(9,10)\n",
      "\n",
      "Positive examples:\n",
      "even(0), even(2), even(4), even(6), even(8), even(10)\n",
      "\n",
      "Negative examples:\n",
      "even(1), even(3), even(5), even(7), even(9)\n"
     ]
    }
   ],
   "source": [
    "print('Background axioms:')\n",
    "print(', '.join(map(ground_atom2str, background)))\n",
    "\n",
    "print('\\nPositive examples:')\n",
    "print(', '.join(map(ground_atom2str, positive)))\n",
    "\n",
    "print('\\nNegative examples:')\n",
    "print(', '.join(map(ground_atom2str, negative)))"
   ]
  },
  {
   "cell_type": "markdown",
   "metadata": {
    "pycharm": {
     "name": "#%% md\n"
    }
   },
   "source": [
    "We can now run **Lernd**.\n",
    "\n",
    "Note that in this problem mini batching is used (taking random 30% of examples at every training step). This has a\n",
    "dramatic effect on performance as it helps to avoid local minima."
   ]
  },
  {
   "cell_type": "code",
   "execution_count": null,
   "metadata": {
    "pycharm": {
     "name": "#%%\n"
    }
   },
   "outputs": [
    {
     "name": "stdout",
     "output_type": "stream",
     "text": [
      "Step 140 loss: 1.3564462661743164, mini_batch loss: 0.01988757960498333\n",
      "\n"
     ]
    },
    {
     "data": {
      "image/png": "[encoded data removed]",
      "text/plain": [
       "<Figure size 432x288 with 3 Axes>"
      ]
     },
     "metadata": {
      "needs_background": "light"
     },
     "output_type": "display_data"
    }
   ],
   "source": [
    "lernd_model = Lernd(ilp_problem, program_template, mini_batch=0.3)\n",
    "weights = generate_weight_matrices(lernd_model.clauses)\n",
    "\n",
    "losses = []\n",
    "optimizer = tf.keras.optimizers.RMSprop(learning_rate=0.5)\n",
    "\n",
    "for i in range(1, 501):\n",
    "    loss_grad, loss, valuation, full_loss = lernd_model.grad(weights)\n",
    "    optimizer.apply_gradients(zip(loss_grad, list(weights.values())))\n",
    "    loss_float = float(full_loss.numpy())\n",
    "    mb_loss_float = float(loss.numpy())\n",
    "    losses.append(loss_float)\n",
    "    if i % 10 == 0:\n",
    "        print(f'Step {i} loss: {loss_float}, mini_batch loss: {mb_loss_float}\\n')\n",
    "        fig, axs = plt.subplots(ncols=3, gridspec_kw={'width_ratios': [1, 3, 0.2]})\n",
    "        fig.subplots_adjust(top=0.8, wspace=0.6)\n",
    "        fig.suptitle(f'Softmaxed weight matrices at step {i}', fontsize=16)\n",
    "        im0 = axs[0].pcolormesh(softmax(weights[aux_pred]).numpy(), cmap='viridis', vmin=0, vmax=1)\n",
    "        axs[0].set_title('Auxiliary predicate')\n",
    "        im1 = axs[1].pcolormesh(np.transpose(softmax(weights[target_pred]).numpy()), cmap='viridis', vmin=0, vmax=1)\n",
    "        axs[1].set_title('Target predicate')\n",
    "        fig.colorbar(im0, cax=axs[2])\n",
    "        plt.show()\n",
    "        if i != 500:\n",
    "            clear_output(wait=True)"
   ]
  },
  {
   "cell_type": "markdown",
   "metadata": {
    "pycharm": {
     "name": "#%% md\n"
    }
   },
   "source": [
    "Let's plot the loss to see how it went."
   ]
  },
  {
   "cell_type": "code",
   "execution_count": null,
   "metadata": {
    "pycharm": {
     "name": "#%%\n"
    }
   },
   "outputs": [],
   "source": [
    "fig, ax = plt.subplots()\n",
    "ax.plot(losses)\n",
    "ax.set_title('Loss')\n",
    "ax.set_xlabel('Step')\n",
    "ax.set_ylabel('Value')"
   ]
  },
  {
   "cell_type": "markdown",
   "metadata": {
    "pycharm": {
     "name": "#%% md\n"
    }
   },
   "source": [
    "Finally let's extract the results:"
   ]
  },
  {
   "cell_type": "code",
   "execution_count": null,
   "metadata": {
    "pycharm": {
     "name": "#%%\n"
    }
   },
   "outputs": [],
   "source": [
    "extract_definitions(lernd_model.clauses, weights)\n",
    "ground_atom_probs = get_ground_atom_probs(valuation, lernd_model.ground_atoms)\n",
    "print_valuations(ground_atom_probs)"
   ]
  },
  {
   "cell_type": "markdown",
   "metadata": {
    "pycharm": {
     "name": "#%% md\n"
    }
   },
   "source": [
    "I found that **Lernd** is able to solve this problem in 500 training steps 78% of the time (i. e. loss lower than 1e-4 was\n",
    "reached in 78 tries, out of a 100, and in 74 cases loss was exactly 0). Other times system gets stuck in a local\n",
    "minimum, weights oscillating. This could potentially be solved by splitting background axioms and examples into possible\n",
    "worlds, as suggested in the original paper.\n",
    "\n",
    "In the next notebook we'll run **Lernd** on data with mislabelled examples."
   ]
  }
 ],
 "metadata": {
  "kernelspec": {
   "display_name": "Python 3",
   "language": "python",
   "name": "python3"
  },
  "language_info": {
   "codemirror_mode": {
    "name": "ipython",
    "version": 3
   },
   "file_extension": ".py",
   "mimetype": "text/x-python",
   "name": "python",
   "nbconvert_exporter": "python",
   "pygments_lexer": "ipython3",
   "version": "3.7.7"
  }
 },
 "nbformat": 4,
 "nbformat_minor": 1
}
